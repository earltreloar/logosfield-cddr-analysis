{
  "cells": [
    {
      "cell_type": "markdown",
      "metadata": {
        "id": "view-in-github",
        "colab_type": "text"
      },
      "source": [
        "<a href=\"https://colab.research.google.com/github/earltreloar/logosfield-cddr-analysis/blob/main/Mechanism1_SpinAlignment_Colab.ipynb\" target=\"_parent\"><img src=\"https://colab.research.google.com/assets/colab-badge.svg\" alt=\"Open In Colab\"/></a>"
      ]
    },
    {
      "cell_type": "markdown",
      "metadata": {
        "id": "Yn5vFfmtkmDD"
      },
      "source": [
        "# Mechanism 1 — Spin Alignment (One‑Click Colab)\n",
        "This notebook reproduces the Logosfield spin‑alignment test with a **stub dataset** (tiny sample) for instant run.\n",
        "Switch to full datasets by mounting Drive and pointing to your CSVs.\n"
      ],
      "id": "Yn5vFfmtkmDD"
    },
    {
      "cell_type": "code",
      "metadata": {
        "id": "1759469120.4899893",
        "colab": {
          "base_uri": "https://localhost:8080/"
        },
        "outputId": "048b230c-9957-4719-bf31-409aa73599f2"
      },
      "source": [
        "#@title 0. Setup (installs & imports)\n",
        "!pip -q install numpy pandas matplotlib scipy\n",
        "import numpy as np, pandas as pd, matplotlib.pyplot as plt\n",
        "from math import cos, sin, atan2, pi\n",
        "print(\"Ready.\")"
      ],
      "execution_count": 1,
      "outputs": [
        {
          "output_type": "stream",
          "name": "stdout",
          "text": [
            "Ready.\n"
          ]
        }
      ],
      "id": "1759469120.4899893"
    },
    {
      "cell_type": "code",
      "metadata": {
        "id": "1759469120.489998"
      },
      "source": [
        "#@title 1. (Optional) Mount Google Drive for real data (skip for stub)\n",
        "USE_DRIVE = False  #@param {type:\"boolean\"}\n",
        "if USE_DRIVE:\n",
        "    from google.colab import drive\n",
        "    drive.mount('/content/drive')\n",
        "    print(\"Drive mounted.\")"
      ],
      "execution_count": 2,
      "outputs": [],
      "id": "1759469120.489998"
    },
    {
      "cell_type": "code",
      "metadata": {
        "id": "1759469120.4900012",
        "colab": {
          "base_uri": "https://localhost:8080/",
          "height": 206
        },
        "outputId": "2c4eeaf1-f31b-4498-93c3-3431a4ab3835"
      },
      "source": [
        "#@title 2. Load Data (stub by default)\n",
        "# Provide a path to your real catalog if USE_DRIVE=True (CSV with columns: ra, dec, spin_sign, z)\n",
        "real_path = \"\"  #@param {type:\"string\"}\n",
        "if USE_DRIVE and real_path:\n",
        "    df = pd.read_csv(real_path)\n",
        "else:\n",
        "    # Tiny stub: 600 galaxies with a planted ~62% alignment against a unit gradient field\n",
        "    rng = np.random.default_rng(42)\n",
        "    N = 600\n",
        "    ra = rng.uniform(0, 360, N)\n",
        "    dec = rng.uniform(-60, 60, N)  # avoid poles for simplicity\n",
        "    z = rng.uniform(0.1, 1.2, N)\n",
        "    # True gradient direction (Logosfield proxy) per object in sky coords\n",
        "    phi_g = np.radians((5*ra + 0.3*dec) % 360)\n",
        "    # spins: +1/-1; bias toward alignment with gradient direction (p=0.62)\n",
        "    p_align = 0.62\n",
        "    aligned = rng.random(N) < p_align\n",
        "    # compute sign via dot product sign between local axis and gradient\n",
        "    # simple model: local axis azimuth phi_s deviates from phi_g by small noise when aligned\n",
        "    phi_s = np.where(aligned, phi_g + rng.normal(0, 0.35, N), phi_g + pi/2 + rng.normal(0, 0.35, N))\n",
        "    spin_sign = np.sign(np.cos(phi_s - phi_g))\n",
        "    df = pd.DataFrame(dict(ra=ra, dec=dec, z=z, spin_sign=spin_sign.astype(int)))\n",
        "df.head()"
      ],
      "execution_count": 3,
      "outputs": [
        {
          "output_type": "execute_result",
          "data": {
            "text/plain": [
              "           ra        dec         z  spin_sign\n",
              "0  278.624177  -2.699295  0.723063          1\n",
              "1  157.996238  31.371908  0.706000         -1\n",
              "2  309.095251  48.399345  1.011402          1\n",
              "3  251.052490  26.483514  0.881586          1\n",
              "4   33.903845  55.585347  0.129236          1"
            ],
            "text/html": [
              "\n",
              "  <div id=\"df-f85ffec2-8635-4fe7-8bb8-10f703066d13\" class=\"colab-df-container\">\n",
              "    <div>\n",
              "<style scoped>\n",
              "    .dataframe tbody tr th:only-of-type {\n",
              "        vertical-align: middle;\n",
              "    }\n",
              "\n",
              "    .dataframe tbody tr th {\n",
              "        vertical-align: top;\n",
              "    }\n",
              "\n",
              "    .dataframe thead th {\n",
              "        text-align: right;\n",
              "    }\n",
              "</style>\n",
              "<table border=\"1\" class=\"dataframe\">\n",
              "  <thead>\n",
              "    <tr style=\"text-align: right;\">\n",
              "      <th></th>\n",
              "      <th>ra</th>\n",
              "      <th>dec</th>\n",
              "      <th>z</th>\n",
              "      <th>spin_sign</th>\n",
              "    </tr>\n",
              "  </thead>\n",
              "  <tbody>\n",
              "    <tr>\n",
              "      <th>0</th>\n",
              "      <td>278.624177</td>\n",
              "      <td>-2.699295</td>\n",
              "      <td>0.723063</td>\n",
              "      <td>1</td>\n",
              "    </tr>\n",
              "    <tr>\n",
              "      <th>1</th>\n",
              "      <td>157.996238</td>\n",
              "      <td>31.371908</td>\n",
              "      <td>0.706000</td>\n",
              "      <td>-1</td>\n",
              "    </tr>\n",
              "    <tr>\n",
              "      <th>2</th>\n",
              "      <td>309.095251</td>\n",
              "      <td>48.399345</td>\n",
              "      <td>1.011402</td>\n",
              "      <td>1</td>\n",
              "    </tr>\n",
              "    <tr>\n",
              "      <th>3</th>\n",
              "      <td>251.052490</td>\n",
              "      <td>26.483514</td>\n",
              "      <td>0.881586</td>\n",
              "      <td>1</td>\n",
              "    </tr>\n",
              "    <tr>\n",
              "      <th>4</th>\n",
              "      <td>33.903845</td>\n",
              "      <td>55.585347</td>\n",
              "      <td>0.129236</td>\n",
              "      <td>1</td>\n",
              "    </tr>\n",
              "  </tbody>\n",
              "</table>\n",
              "</div>\n",
              "    <div class=\"colab-df-buttons\">\n",
              "\n",
              "  <div class=\"colab-df-container\">\n",
              "    <button class=\"colab-df-convert\" onclick=\"convertToInteractive('df-f85ffec2-8635-4fe7-8bb8-10f703066d13')\"\n",
              "            title=\"Convert this dataframe to an interactive table.\"\n",
              "            style=\"display:none;\">\n",
              "\n",
              "  <svg xmlns=\"http://www.w3.org/2000/svg\" height=\"24px\" viewBox=\"0 -960 960 960\">\n",
              "    <path d=\"M120-120v-720h720v720H120Zm60-500h600v-160H180v160Zm220 220h160v-160H400v160Zm0 220h160v-160H400v160ZM180-400h160v-160H180v160Zm440 0h160v-160H620v160ZM180-180h160v-160H180v160Zm440 0h160v-160H620v160Z\"/>\n",
              "  </svg>\n",
              "    </button>\n",
              "\n",
              "  <style>\n",
              "    .colab-df-container {\n",
              "      display:flex;\n",
              "      gap: 12px;\n",
              "    }\n",
              "\n",
              "    .colab-df-convert {\n",
              "      background-color: #E8F0FE;\n",
              "      border: none;\n",
              "      border-radius: 50%;\n",
              "      cursor: pointer;\n",
              "      display: none;\n",
              "      fill: #1967D2;\n",
              "      height: 32px;\n",
              "      padding: 0 0 0 0;\n",
              "      width: 32px;\n",
              "    }\n",
              "\n",
              "    .colab-df-convert:hover {\n",
              "      background-color: #E2EBFA;\n",
              "      box-shadow: 0px 1px 2px rgba(60, 64, 67, 0.3), 0px 1px 3px 1px rgba(60, 64, 67, 0.15);\n",
              "      fill: #174EA6;\n",
              "    }\n",
              "\n",
              "    .colab-df-buttons div {\n",
              "      margin-bottom: 4px;\n",
              "    }\n",
              "\n",
              "    [theme=dark] .colab-df-convert {\n",
              "      background-color: #3B4455;\n",
              "      fill: #D2E3FC;\n",
              "    }\n",
              "\n",
              "    [theme=dark] .colab-df-convert:hover {\n",
              "      background-color: #434B5C;\n",
              "      box-shadow: 0px 1px 3px 1px rgba(0, 0, 0, 0.15);\n",
              "      filter: drop-shadow(0px 1px 2px rgba(0, 0, 0, 0.3));\n",
              "      fill: #FFFFFF;\n",
              "    }\n",
              "  </style>\n",
              "\n",
              "    <script>\n",
              "      const buttonEl =\n",
              "        document.querySelector('#df-f85ffec2-8635-4fe7-8bb8-10f703066d13 button.colab-df-convert');\n",
              "      buttonEl.style.display =\n",
              "        google.colab.kernel.accessAllowed ? 'block' : 'none';\n",
              "\n",
              "      async function convertToInteractive(key) {\n",
              "        const element = document.querySelector('#df-f85ffec2-8635-4fe7-8bb8-10f703066d13');\n",
              "        const dataTable =\n",
              "          await google.colab.kernel.invokeFunction('convertToInteractive',\n",
              "                                                    [key], {});\n",
              "        if (!dataTable) return;\n",
              "\n",
              "        const docLinkHtml = 'Like what you see? Visit the ' +\n",
              "          '<a target=\"_blank\" href=https://colab.research.google.com/notebooks/data_table.ipynb>data table notebook</a>'\n",
              "          + ' to learn more about interactive tables.';\n",
              "        element.innerHTML = '';\n",
              "        dataTable['output_type'] = 'display_data';\n",
              "        await google.colab.output.renderOutput(dataTable, element);\n",
              "        const docLink = document.createElement('div');\n",
              "        docLink.innerHTML = docLinkHtml;\n",
              "        element.appendChild(docLink);\n",
              "      }\n",
              "    </script>\n",
              "  </div>\n",
              "\n",
              "\n",
              "    <div id=\"df-f3d87094-ca0b-4bb4-aaa7-7e31d7dc523d\">\n",
              "      <button class=\"colab-df-quickchart\" onclick=\"quickchart('df-f3d87094-ca0b-4bb4-aaa7-7e31d7dc523d')\"\n",
              "                title=\"Suggest charts\"\n",
              "                style=\"display:none;\">\n",
              "\n",
              "<svg xmlns=\"http://www.w3.org/2000/svg\" height=\"24px\"viewBox=\"0 0 24 24\"\n",
              "     width=\"24px\">\n",
              "    <g>\n",
              "        <path d=\"M19 3H5c-1.1 0-2 .9-2 2v14c0 1.1.9 2 2 2h14c1.1 0 2-.9 2-2V5c0-1.1-.9-2-2-2zM9 17H7v-7h2v7zm4 0h-2V7h2v10zm4 0h-2v-4h2v4z\"/>\n",
              "    </g>\n",
              "</svg>\n",
              "      </button>\n",
              "\n",
              "<style>\n",
              "  .colab-df-quickchart {\n",
              "      --bg-color: #E8F0FE;\n",
              "      --fill-color: #1967D2;\n",
              "      --hover-bg-color: #E2EBFA;\n",
              "      --hover-fill-color: #174EA6;\n",
              "      --disabled-fill-color: #AAA;\n",
              "      --disabled-bg-color: #DDD;\n",
              "  }\n",
              "\n",
              "  [theme=dark] .colab-df-quickchart {\n",
              "      --bg-color: #3B4455;\n",
              "      --fill-color: #D2E3FC;\n",
              "      --hover-bg-color: #434B5C;\n",
              "      --hover-fill-color: #FFFFFF;\n",
              "      --disabled-bg-color: #3B4455;\n",
              "      --disabled-fill-color: #666;\n",
              "  }\n",
              "\n",
              "  .colab-df-quickchart {\n",
              "    background-color: var(--bg-color);\n",
              "    border: none;\n",
              "    border-radius: 50%;\n",
              "    cursor: pointer;\n",
              "    display: none;\n",
              "    fill: var(--fill-color);\n",
              "    height: 32px;\n",
              "    padding: 0;\n",
              "    width: 32px;\n",
              "  }\n",
              "\n",
              "  .colab-df-quickchart:hover {\n",
              "    background-color: var(--hover-bg-color);\n",
              "    box-shadow: 0 1px 2px rgba(60, 64, 67, 0.3), 0 1px 3px 1px rgba(60, 64, 67, 0.15);\n",
              "    fill: var(--button-hover-fill-color);\n",
              "  }\n",
              "\n",
              "  .colab-df-quickchart-complete:disabled,\n",
              "  .colab-df-quickchart-complete:disabled:hover {\n",
              "    background-color: var(--disabled-bg-color);\n",
              "    fill: var(--disabled-fill-color);\n",
              "    box-shadow: none;\n",
              "  }\n",
              "\n",
              "  .colab-df-spinner {\n",
              "    border: 2px solid var(--fill-color);\n",
              "    border-color: transparent;\n",
              "    border-bottom-color: var(--fill-color);\n",
              "    animation:\n",
              "      spin 1s steps(1) infinite;\n",
              "  }\n",
              "\n",
              "  @keyframes spin {\n",
              "    0% {\n",
              "      border-color: transparent;\n",
              "      border-bottom-color: var(--fill-color);\n",
              "      border-left-color: var(--fill-color);\n",
              "    }\n",
              "    20% {\n",
              "      border-color: transparent;\n",
              "      border-left-color: var(--fill-color);\n",
              "      border-top-color: var(--fill-color);\n",
              "    }\n",
              "    30% {\n",
              "      border-color: transparent;\n",
              "      border-left-color: var(--fill-color);\n",
              "      border-top-color: var(--fill-color);\n",
              "      border-right-color: var(--fill-color);\n",
              "    }\n",
              "    40% {\n",
              "      border-color: transparent;\n",
              "      border-right-color: var(--fill-color);\n",
              "      border-top-color: var(--fill-color);\n",
              "    }\n",
              "    60% {\n",
              "      border-color: transparent;\n",
              "      border-right-color: var(--fill-color);\n",
              "    }\n",
              "    80% {\n",
              "      border-color: transparent;\n",
              "      border-right-color: var(--fill-color);\n",
              "      border-bottom-color: var(--fill-color);\n",
              "    }\n",
              "    90% {\n",
              "      border-color: transparent;\n",
              "      border-bottom-color: var(--fill-color);\n",
              "    }\n",
              "  }\n",
              "</style>\n",
              "\n",
              "      <script>\n",
              "        async function quickchart(key) {\n",
              "          const quickchartButtonEl =\n",
              "            document.querySelector('#' + key + ' button');\n",
              "          quickchartButtonEl.disabled = true;  // To prevent multiple clicks.\n",
              "          quickchartButtonEl.classList.add('colab-df-spinner');\n",
              "          try {\n",
              "            const charts = await google.colab.kernel.invokeFunction(\n",
              "                'suggestCharts', [key], {});\n",
              "          } catch (error) {\n",
              "            console.error('Error during call to suggestCharts:', error);\n",
              "          }\n",
              "          quickchartButtonEl.classList.remove('colab-df-spinner');\n",
              "          quickchartButtonEl.classList.add('colab-df-quickchart-complete');\n",
              "        }\n",
              "        (() => {\n",
              "          let quickchartButtonEl =\n",
              "            document.querySelector('#df-f3d87094-ca0b-4bb4-aaa7-7e31d7dc523d button');\n",
              "          quickchartButtonEl.style.display =\n",
              "            google.colab.kernel.accessAllowed ? 'block' : 'none';\n",
              "        })();\n",
              "      </script>\n",
              "    </div>\n",
              "\n",
              "    </div>\n",
              "  </div>\n"
            ],
            "application/vnd.google.colaboratory.intrinsic+json": {
              "type": "dataframe",
              "variable_name": "df",
              "summary": "{\n  \"name\": \"df\",\n  \"rows\": 600,\n  \"fields\": [\n    {\n      \"column\": \"ra\",\n      \"properties\": {\n        \"dtype\": \"number\",\n        \"std\": 103.40162207737654,\n        \"min\": 1.9547402863321661,\n        \"max\": 359.67770297072593,\n        \"num_unique_values\": 600,\n        \"samples\": [\n          164.07946434009997,\n          327.8297617671187,\n          241.27317192648778\n        ],\n        \"semantic_type\": \"\",\n        \"description\": \"\"\n      }\n    },\n    {\n      \"column\": \"dec\",\n      \"properties\": {\n        \"dtype\": \"number\",\n        \"std\": 35.41049965296801,\n        \"min\": -59.93775070011534,\n        \"max\": 59.93062910690254,\n        \"num_unique_values\": 600,\n        \"samples\": [\n          59.36420987220298,\n          -6.0440773892783355,\n          43.29611683446433\n        ],\n        \"semantic_type\": \"\",\n        \"description\": \"\"\n      }\n    },\n    {\n      \"column\": \"z\",\n      \"properties\": {\n        \"dtype\": \"number\",\n        \"std\": 0.3192175785747965,\n        \"min\": 0.10117421152502197,\n        \"max\": 1.1987126010670244,\n        \"num_unique_values\": 600,\n        \"samples\": [\n          0.5317332076914382,\n          0.14250874080957307,\n          0.17843498760332993\n        ],\n        \"semantic_type\": \"\",\n        \"description\": \"\"\n      }\n    },\n    {\n      \"column\": \"spin_sign\",\n      \"properties\": {\n        \"dtype\": \"number\",\n        \"std\": 0,\n        \"min\": -1,\n        \"max\": 1,\n        \"num_unique_values\": 2,\n        \"samples\": [\n          -1,\n          1\n        ],\n        \"semantic_type\": \"\",\n        \"description\": \"\"\n      }\n    }\n  ]\n}"
            }
          },
          "metadata": {},
          "execution_count": 3
        }
      ],
      "id": "1759469120.4900012"
    },
    {
      "cell_type": "code",
      "metadata": {
        "id": "1759469120.4900074",
        "colab": {
          "base_uri": "https://localhost:8080/"
        },
        "outputId": "6a090b60-9e8c-4119-d8a6-bb83980268c8"
      },
      "source": [
        "#@title 3. Define Logosfield Gradient Proxy and Alignment Metric\n",
        "# For demonstration, define a deterministic gradient direction from (ra,dec)\n",
        "def grad_phi(ra_deg, dec_deg):\n",
        "    # simple smooth field as a function on the sphere (proxy)\n",
        "    return np.radians((5*ra_deg + 0.3*dec_deg) % 360)\n",
        "\n",
        "def alignment_fraction(spin_sign, ra_deg, dec_deg):\n",
        "    phi_g = grad_phi(ra_deg, dec_deg)\n",
        "    # alignment: spin_sign ~ sign(cos(phi_s - phi_g)), but we only have sign; use sign==+1 as aligned\n",
        "    aligned = (spin_sign > 0).astype(int)\n",
        "    return aligned.mean()\n",
        "\n",
        "frac = alignment_fraction(df['spin_sign'].values, df['ra'].values, df['dec'].values)\n",
        "print(f\"Alignment fraction = {frac:.3f} (null=0.5)\")"
      ],
      "execution_count": 4,
      "outputs": [
        {
          "output_type": "stream",
          "name": "stdout",
          "text": [
            "Alignment fraction = 0.810 (null=0.5)\n"
          ]
        }
      ],
      "id": "1759469120.4900074"
    },
    {
      "cell_type": "code",
      "metadata": {
        "id": "1759469120.4900122",
        "colab": {
          "base_uri": "https://localhost:8080/"
        },
        "outputId": "4f50d408-b340-4c75-da35-b7fdebf94c43"
      },
      "source": [
        "#@title 4. Permutation Null and p-value\n",
        "def perm_null(spin_sign, ra, dec, reps=2000, seed=123):\n",
        "    rng = np.random.default_rng(seed)\n",
        "    base = alignment_fraction(spin_sign, ra, dec)\n",
        "    vals = []\n",
        "    for _ in range(reps):\n",
        "        perm = rng.permutation(spin_sign)\n",
        "        vals.append(alignment_fraction(perm, ra, dec))\n",
        "    vals = np.array(vals)\n",
        "    p = (np.sum(vals >= base) + 1) / (reps + 1)\n",
        "    return base, vals, p\n",
        "\n",
        "base, vals, p = perm_null(df['spin_sign'].values, df['ra'].values, df['dec'].values, reps=2000)\n",
        "print(f\"Observed alignment = {base:.3f}; permutation p ≈ {p:.3e}\")"
      ],
      "execution_count": 5,
      "outputs": [
        {
          "output_type": "stream",
          "name": "stdout",
          "text": [
            "Observed alignment = 0.810; permutation p ≈ 1.000e+00\n"
          ]
        }
      ],
      "id": "1759469120.4900122"
    },
    {
      "cell_type": "code",
      "metadata": {
        "id": "1759469120.4900177",
        "colab": {
          "base_uri": "https://localhost:8080/",
          "height": 407
        },
        "outputId": "55a0630e-d57c-44b6-b42b-60a2e991b6f6"
      },
      "source": [
        "#@title 5. Plot Null vs Observed\n",
        "plt.figure(figsize=(6,4))\n",
        "plt.hist(vals, bins=40, alpha=0.7, density=True)\n",
        "plt.axvline(base, color='r', linestyle='--', label=f\"obs={base:.3f}\")\n",
        "plt.axvline(0.5, color='k', linestyle=':', label=\"null=0.5\")\n",
        "plt.xlabel(\"Alignment fraction\"); plt.ylabel(\"PDF\"); plt.legend(); plt.tight_layout()\n",
        "plt.show()"
      ],
      "execution_count": 6,
      "outputs": [
        {
          "output_type": "display_data",
          "data": {
            "text/plain": [
              "<Figure size 600x400 with 1 Axes>"
            ],
            "image/png": "[encoded data removed]"
          },
          "metadata": {}
        }
      ],
      "id": "1759469120.4900177"
    },
    {
      "cell_type": "code",
      "metadata": {
        "id": "1759469120.4900212",
        "colab": {
          "base_uri": "https://localhost:8080/"
        },
        "outputId": "56beed81-519c-4406-ccd8-fe9119b373ac"
      },
      "source": [
        "#@title 6. Drive Output (CSV)\n",
        "out = pd.DataFrame({\"metric\":[\"alignment_fraction\"], \"value\":[base], \"p_value\":[p]})\n",
        "out_path = \"/content/spin_alignment_results.csv\"\n",
        "out.to_csv(out_path, index=False)\n",
        "print(\"Wrote:\", out_path)"
      ],
      "execution_count": 7,
      "outputs": [
        {
          "output_type": "stream",
          "name": "stdout",
          "text": [
            "Wrote: /content/spin_alignment_results.csv\n"
          ]
        }
      ],
      "id": "1759469120.4900212"
    },
    {
      "cell_type": "markdown",
      "metadata": {
        "id": "vVJ9kQ-xkmDI"
      },
      "source": [
        "**To run on full data**: set `USE_DRIVE=True` and point `real_path` to your CSV (`ra,dec,spin_sign,z`)."
      ],
      "id": "vVJ9kQ-xkmDI"
    }
  ],
  "metadata": {
    "colab": {
      "provenance": [],
      "toc_visible": true,
      "include_colab_link": true
    },
    "kernelspec": {
      "display_name": "Python 3",
      "language": "python",
      "name": "python3"
    },
    "language_info": {
      "name": "python"
    }
  },
  "nbformat": 4,
  "nbformat_minor": 5
}