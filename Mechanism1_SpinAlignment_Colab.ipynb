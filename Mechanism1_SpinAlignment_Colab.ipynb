{
  "cells": [
    {
      "cell_type": "markdown",
      "metadata": {
        "id": "view-in-github",
        "colab_type": "text"
      },
      "source": [
        "<a href=\"https://colab.research.google.com/github/earltreloar/logosfield-cddr-analysis/blob/main/Mechanism1_SpinAlignment_Colab.ipynb\" target=\"_parent\"><img src=\"https://colab.research.google.com/assets/colab-badge.svg\" alt=\"Open In Colab\"/></a>"
      ]
    },
    {
      "cell_type": "markdown",
      "metadata": {
        "id": "cell_e03399d467934985a1ced6874362e283"
      },
      "source": [
        "# Mechanism 1 — Spin Alignment (Colab)"
      ],
      "id": "cell_e03399d467934985a1ced6874362e283"
    },
    {
      "cell_type": "code",
      "metadata": {
        "id": "cell_27d4d72fef2f4270bf621978034ebe45",
        "colab": {
          "base_uri": "https://localhost:8080/"
        },
        "outputId": "47a54bf1-dc99-4054-9ac9-633ffedd202b"
      },
      "source": [
        "#@title 0. Setup\n",
        "!pip -q install numpy pandas matplotlib scipy\n",
        "import numpy as np, pandas as pd, matplotlib.pyplot as plt\n",
        "print(\"Ready.\")"
      ],
      "execution_count": 1,
      "outputs": [
        {
          "output_type": "stream",
          "name": "stdout",
          "text": [
            "Ready.\n"
          ]
        }
      ],
      "id": "cell_27d4d72fef2f4270bf621978034ebe45"
    },
    {
      "cell_type": "code",
      "metadata": {
        "id": "cell_925a5faf1d064ebe8a3be66a8563d998"
      },
      "source": [
        "#@title 1. (Optional) Mount Drive\n",
        "USE_DRIVE = False  #@param {type:\"boolean\"}\n",
        "real_path = \"\"     #@param {type:\"string\"}\n",
        "if USE_DRIVE:\n",
        "    from google.colab import drive\n",
        "    drive.mount('/content/drive')"
      ],
      "execution_count": 2,
      "outputs": [],
      "id": "cell_925a5faf1d064ebe8a3be66a8563d998"
    },
    {
      "cell_type": "code",
      "metadata": {
        "id": "cell_86e1f4e8596e4132abb27a5ade93aef1",
        "colab": {
          "base_uri": "https://localhost:8080/",
          "height": 206
        },
        "outputId": "8b2c88f3-1aeb-490f-fb15-393293aff877"
      },
      "source": [
        "#@title 2. Load data (stub or Drive CSV)\n",
        "if USE_DRIVE and real_path:\n",
        "    df = pd.read_csv(real_path)\n",
        "    assert {'ra','dec','spin_sign'}.issubset(df.columns), \"CSV must have ra, dec, spin_sign\"\n",
        "else:\n",
        "    rng = np.random.default_rng(42); N=600\n",
        "    ra=rng.uniform(0,360,N); dec=rng.uniform(-60,60,N)\n",
        "    phi_g=np.radians((5*ra+0.3*dec)%360)\n",
        "    aligned=rng.random(N)<0.62\n",
        "    phi_s = np.where(aligned, phi_g+rng.normal(0,0.35,N), phi_g+np.pi/2+rng.normal(0,0.35,N))\n",
        "    spin_sign = np.sign(np.cos(phi_s-phi_g)).astype(int)\n",
        "    df = pd.DataFrame(dict(ra=ra, dec=dec, spin_sign=spin_sign))\n",
        "df.head()"
      ],
      "execution_count": 3,
      "outputs": [
        {
          "output_type": "execute_result",
          "data": {
            "text/plain": [
              "           ra        dec  spin_sign\n",
              "0  278.624177  -2.699295          1\n",
              "1  157.996238  31.371908          1\n",
              "2  309.095251  48.399345         -1\n",
              "3  251.052490  26.483514         -1\n",
              "4   33.903845  55.585347          1"
            ],
            "text/html": [
              "\n",
              "  <div id=\"df-b9ce201c-c6f3-45f9-a309-6b3d3a38115b\" class=\"colab-df-container\">\n",
              "    <div>\n",
              "<style scoped>\n",
              "    .dataframe tbody tr th:only-of-type {\n",
              "        vertical-align: middle;\n",
              "    }\n",
              "\n",
              "    .dataframe tbody tr th {\n",
              "        vertical-align: top;\n",
              "    }\n",
              "\n",
              "    .dataframe thead th {\n",
              "        text-align: right;\n",
              "    }\n",
              "</style>\n",
              "<table border=\"1\" class=\"dataframe\">\n",
              "  <thead>\n",
              "    <tr style=\"text-align: right;\">\n",
              "      <th></th>\n",
              "      <th>ra</th>\n",
              "      <th>dec</th>\n",
              "      <th>spin_sign</th>\n",
              "    </tr>\n",
              "  </thead>\n",
              "  <tbody>\n",
              "    <tr>\n",
              "      <th>0</th>\n",
              "      <td>278.624177</td>\n",
              "      <td>-2.699295</td>\n",
              "      <td>1</td>\n",
              "    </tr>\n",
              "    <tr>\n",
              "      <th>1</th>\n",
              "      <td>157.996238</td>\n",
              "      <td>31.371908</td>\n",
              "      <td>1</td>\n",
              "    </tr>\n",
              "    <tr>\n",
              "      <th>2</th>\n",
              "      <td>309.095251</td>\n",
              "      <td>48.399345</td>\n",
              "      <td>-1</td>\n",
              "    </tr>\n",
              "    <tr>\n",
              "      <th>3</th>\n",
              "      <td>251.052490</td>\n",
              "      <td>26.483514</td>\n",
              "      <td>-1</td>\n",
              "    </tr>\n",
              "    <tr>\n",
              "      <th>4</th>\n",
              "      <td>33.903845</td>\n",
              "      <td>55.585347</td>\n",
              "      <td>1</td>\n",
              "    </tr>\n",
              "  </tbody>\n",
              "</table>\n",
              "</div>\n",
              "    <div class=\"colab-df-buttons\">\n",
              "\n",
              "  <div class=\"colab-df-container\">\n",
              "    <button class=\"colab-df-convert\" onclick=\"convertToInteractive('df-b9ce201c-c6f3-45f9-a309-6b3d3a38115b')\"\n",
              "            title=\"Convert this dataframe to an interactive table.\"\n",
              "            style=\"display:none;\">\n",
              "\n",
              "  <svg xmlns=\"http://www.w3.org/2000/svg\" height=\"24px\" viewBox=\"0 -960 960 960\">\n",
              "    <path d=\"M120-120v-720h720v720H120Zm60-500h600v-160H180v160Zm220 220h160v-160H400v160Zm0 220h160v-160H400v160ZM180-400h160v-160H180v160Zm440 0h160v-160H620v160ZM180-180h160v-160H180v160Zm440 0h160v-160H620v160Z\"/>\n",
              "  </svg>\n",
              "    </button>\n",
              "\n",
              "  <style>\n",
              "    .colab-df-container {\n",
              "      display:flex;\n",
              "      gap: 12px;\n",
              "    }\n",
              "\n",
              "    .colab-df-convert {\n",
              "      background-color: #E8F0FE;\n",
              "      border: none;\n",
              "      border-radius: 50%;\n",
              "      cursor: pointer;\n",
              "      display: none;\n",
              "      fill: #1967D2;\n",
              "      height: 32px;\n",
              "      padding: 0 0 0 0;\n",
              "      width: 32px;\n",
              "    }\n",
              "\n",
              "    .colab-df-convert:hover {\n",
              "      background-color: #E2EBFA;\n",
              "      box-shadow: 0px 1px 2px rgba(60, 64, 67, 0.3), 0px 1px 3px 1px rgba(60, 64, 67, 0.15);\n",
              "      fill: #174EA6;\n",
              "    }\n",
              "\n",
              "    .colab-df-buttons div {\n",
              "      margin-bottom: 4px;\n",
              "    }\n",
              "\n",
              "    [theme=dark] .colab-df-convert {\n",
              "      background-color: #3B4455;\n",
              "      fill: #D2E3FC;\n",
              "    }\n",
              "\n",
              "    [theme=dark] .colab-df-convert:hover {\n",
              "      background-color: #434B5C;\n",
              "      box-shadow: 0px 1px 3px 1px rgba(0, 0, 0, 0.15);\n",
              "      filter: drop-shadow(0px 1px 2px rgba(0, 0, 0, 0.3));\n",
              "      fill: #FFFFFF;\n",
              "    }\n",
              "  </style>\n",
              "\n",
              "    <script>\n",
              "      const buttonEl =\n",
              "        document.querySelector('#df-b9ce201c-c6f3-45f9-a309-6b3d3a38115b button.colab-df-convert');\n",
              "      buttonEl.style.display =\n",
              "        google.colab.kernel.accessAllowed ? 'block' : 'none';\n",
              "\n",
              "      async function convertToInteractive(key) {\n",
              "        const element = document.querySelector('#df-b9ce201c-c6f3-45f9-a309-6b3d3a38115b');\n",
              "        const dataTable =\n",
              "          await google.colab.kernel.invokeFunction('convertToInteractive',\n",
              "                                                    [key], {});\n",
              "        if (!dataTable) return;\n",
              "\n",
              "        const docLinkHtml = 'Like what you see? Visit the ' +\n",
              "          '<a target=\"_blank\" href=https://colab.research.google.com/notebooks/data_table.ipynb>data table notebook</a>'\n",
              "          + ' to learn more about interactive tables.';\n",
              "        element.innerHTML = '';\n",
              "        dataTable['output_type'] = 'display_data';\n",
              "        await google.colab.output.renderOutput(dataTable, element);\n",
              "        const docLink = document.createElement('div');\n",
              "        docLink.innerHTML = docLinkHtml;\n",
              "        element.appendChild(docLink);\n",
              "      }\n",
              "    </script>\n",
              "  </div>\n",
              "\n",
              "\n",
              "    <div id=\"df-a694a3f6-4499-4f69-bbfe-98b922cbdf1f\">\n",
              "      <button class=\"colab-df-quickchart\" onclick=\"quickchart('df-a694a3f6-4499-4f69-bbfe-98b922cbdf1f')\"\n",
              "                title=\"Suggest charts\"\n",
              "                style=\"display:none;\">\n",
              "\n",
              "<svg xmlns=\"http://www.w3.org/2000/svg\" height=\"24px\"viewBox=\"0 0 24 24\"\n",
              "     width=\"24px\">\n",
              "    <g>\n",
              "        <path d=\"M19 3H5c-1.1 0-2 .9-2 2v14c0 1.1.9 2 2 2h14c1.1 0 2-.9 2-2V5c0-1.1-.9-2-2-2zM9 17H7v-7h2v7zm4 0h-2V7h2v10zm4 0h-2v-4h2v4z\"/>\n",
              "    </g>\n",
              "</svg>\n",
              "      </button>\n",
              "\n",
              "<style>\n",
              "  .colab-df-quickchart {\n",
              "      --bg-color: #E8F0FE;\n",
              "      --fill-color: #1967D2;\n",
              "      --hover-bg-color: #E2EBFA;\n",
              "      --hover-fill-color: #174EA6;\n",
              "      --disabled-fill-color: #AAA;\n",
              "      --disabled-bg-color: #DDD;\n",
              "  }\n",
              "\n",
              "  [theme=dark] .colab-df-quickchart {\n",
              "      --bg-color: #3B4455;\n",
              "      --fill-color: #D2E3FC;\n",
              "      --hover-bg-color: #434B5C;\n",
              "      --hover-fill-color: #FFFFFF;\n",
              "      --disabled-bg-color: #3B4455;\n",
              "      --disabled-fill-color: #666;\n",
              "  }\n",
              "\n",
              "  .colab-df-quickchart {\n",
              "    background-color: var(--bg-color);\n",
              "    border: none;\n",
              "    border-radius: 50%;\n",
              "    cursor: pointer;\n",
              "    display: none;\n",
              "    fill: var(--fill-color);\n",
              "    height: 32px;\n",
              "    padding: 0;\n",
              "    width: 32px;\n",
              "  }\n",
              "\n",
              "  .colab-df-quickchart:hover {\n",
              "    background-color: var(--hover-bg-color);\n",
              "    box-shadow: 0 1px 2px rgba(60, 64, 67, 0.3), 0 1px 3px 1px rgba(60, 64, 67, 0.15);\n",
              "    fill: var(--button-hover-fill-color);\n",
              "  }\n",
              "\n",
              "  .colab-df-quickchart-complete:disabled,\n",
              "  .colab-df-quickchart-complete:disabled:hover {\n",
              "    background-color: var(--disabled-bg-color);\n",
              "    fill: var(--disabled-fill-color);\n",
              "    box-shadow: none;\n",
              "  }\n",
              "\n",
              "  .colab-df-spinner {\n",
              "    border: 2px solid var(--fill-color);\n",
              "    border-color: transparent;\n",
              "    border-bottom-color: var(--fill-color);\n",
              "    animation:\n",
              "      spin 1s steps(1) infinite;\n",
              "  }\n",
              "\n",
              "  @keyframes spin {\n",
              "    0% {\n",
              "      border-color: transparent;\n",
              "      border-bottom-color: var(--fill-color);\n",
              "      border-left-color: var(--fill-color);\n",
              "    }\n",
              "    20% {\n",
              "      border-color: transparent;\n",
              "      border-left-color: var(--fill-color);\n",
              "      border-top-color: var(--fill-color);\n",
              "    }\n",
              "    30% {\n",
              "      border-color: transparent;\n",
              "      border-left-color: var(--fill-color);\n",
              "      border-top-color: var(--fill-color);\n",
              "      border-right-color: var(--fill-color);\n",
              "    }\n",
              "    40% {\n",
              "      border-color: transparent;\n",
              "      border-right-color: var(--fill-color);\n",
              "      border-top-color: var(--fill-color);\n",
              "    }\n",
              "    60% {\n",
              "      border-color: transparent;\n",
              "      border-right-color: var(--fill-color);\n",
              "    }\n",
              "    80% {\n",
              "      border-color: transparent;\n",
              "      border-right-color: var(--fill-color);\n",
              "      border-bottom-color: var(--fill-color);\n",
              "    }\n",
              "    90% {\n",
              "      border-color: transparent;\n",
              "      border-bottom-color: var(--fill-color);\n",
              "    }\n",
              "  }\n",
              "</style>\n",
              "\n",
              "      <script>\n",
              "        async function quickchart(key) {\n",
              "          const quickchartButtonEl =\n",
              "            document.querySelector('#' + key + ' button');\n",
              "          quickchartButtonEl.disabled = true;  // To prevent multiple clicks.\n",
              "          quickchartButtonEl.classList.add('colab-df-spinner');\n",
              "          try {\n",
              "            const charts = await google.colab.kernel.invokeFunction(\n",
              "                'suggestCharts', [key], {});\n",
              "          } catch (error) {\n",
              "            console.error('Error during call to suggestCharts:', error);\n",
              "          }\n",
              "          quickchartButtonEl.classList.remove('colab-df-spinner');\n",
              "          quickchartButtonEl.classList.add('colab-df-quickchart-complete');\n",
              "        }\n",
              "        (() => {\n",
              "          let quickchartButtonEl =\n",
              "            document.querySelector('#df-a694a3f6-4499-4f69-bbfe-98b922cbdf1f button');\n",
              "          quickchartButtonEl.style.display =\n",
              "            google.colab.kernel.accessAllowed ? 'block' : 'none';\n",
              "        })();\n",
              "      </script>\n",
              "    </div>\n",
              "\n",
              "    </div>\n",
              "  </div>\n"
            ],
            "application/vnd.google.colaboratory.intrinsic+json": {
              "type": "dataframe",
              "variable_name": "df",
              "summary": "{\n  \"name\": \"df\",\n  \"rows\": 600,\n  \"fields\": [\n    {\n      \"column\": \"ra\",\n      \"properties\": {\n        \"dtype\": \"number\",\n        \"std\": 103.40162207737654,\n        \"min\": 1.9547402863321661,\n        \"max\": 359.67770297072593,\n        \"num_unique_values\": 600,\n        \"samples\": [\n          164.07946434009997,\n          327.8297617671187,\n          241.27317192648778\n        ],\n        \"semantic_type\": \"\",\n        \"description\": \"\"\n      }\n    },\n    {\n      \"column\": \"dec\",\n      \"properties\": {\n        \"dtype\": \"number\",\n        \"std\": 35.41049965296801,\n        \"min\": -59.93775070011534,\n        \"max\": 59.93062910690254,\n        \"num_unique_values\": 600,\n        \"samples\": [\n          59.36420987220298,\n          -6.0440773892783355,\n          43.29611683446433\n        ],\n        \"semantic_type\": \"\",\n        \"description\": \"\"\n      }\n    },\n    {\n      \"column\": \"spin_sign\",\n      \"properties\": {\n        \"dtype\": \"number\",\n        \"std\": 0,\n        \"min\": -1,\n        \"max\": 1,\n        \"num_unique_values\": 2,\n        \"samples\": [\n          -1,\n          1\n        ],\n        \"semantic_type\": \"\",\n        \"description\": \"\"\n      }\n    }\n  ]\n}"
            }
          },
          "metadata": {},
          "execution_count": 3
        }
      ],
      "id": "cell_86e1f4e8596e4132abb27a5ade93aef1"
    },
    {
      "cell_type": "code",
      "metadata": {
        "id": "cell_3bea005371e841269d7ce4883503d0db",
        "colab": {
          "base_uri": "https://localhost:8080/"
        },
        "outputId": "c9b1a158-7eca-4882-ce12-2d79341728aa"
      },
      "source": [
        "#@title 3. Metric + permutation p-value\n",
        "def alignment_fraction(spin_sign): return (np.array(spin_sign)>0).mean()\n",
        "obs = alignment_fraction(df['spin_sign'])\n",
        "rng=np.random.default_rng(7); reps=2000\n",
        "vals=[alignment_fraction(rng.permutation(df['spin_sign'])) for _ in range(reps)]\n",
        "p = (np.sum(np.array(vals)>=obs)+1)/(reps+1)\n",
        "print(f\"Observed={obs:.3f}, p≈{p:.3e}\")"
      ],
      "execution_count": 4,
      "outputs": [
        {
          "output_type": "stream",
          "name": "stdout",
          "text": [
            "Observed=0.803, p≈1.000e+00\n"
          ]
        }
      ],
      "id": "cell_3bea005371e841269d7ce4883503d0db"
    },
    {
      "cell_type": "code",
      "metadata": {
        "id": "cell_6764aa0e912e4c2da5a281a15acc989c",
        "colab": {
          "base_uri": "https://localhost:8080/",
          "height": 425
        },
        "outputId": "06c5765c-c2ed-49ae-aa1e-98ef427fbce4"
      },
      "source": [
        "#@title 4. Plot + save\n",
        "plt.figure(figsize=(6,4))\n",
        "plt.hist(vals, bins=40, density=True, alpha=0.7, label='perm null')\n",
        "plt.axvline(0.5, color='k', ls=':', label='null=0.5')\n",
        "plt.axvline(obs, color='r', ls='--', label=f'obs={obs:.3f}')\n",
        "plt.legend(); plt.xlabel('Alignment fraction'); plt.ylabel('PDF'); plt.tight_layout(); plt.show()\n",
        "out='/content/outputs_m1'; import os; os.makedirs(out, exist_ok=True)\n",
        "pd.DataFrame({'obs':[obs],'p':[p]}).to_csv(f\"{out}/summary.csv\", index=False)\n",
        "print(\"Wrote:\", f\"{out}/summary.csv\")"
      ],
      "execution_count": 5,
      "outputs": [
        {
          "output_type": "display_data",
          "data": {
            "text/plain": [
              "<Figure size 600x400 with 1 Axes>"
            ],
            "image/png": "[encoded data removed]"
          },
          "metadata": {}
        },
        {
          "output_type": "stream",
          "name": "stdout",
          "text": [
            "Wrote: /content/outputs_m1/summary.csv\n"
          ]
        }
      ],
      "id": "cell_6764aa0e912e4c2da5a281a15acc989c"
    }
  ],
  "metadata": {
    "colab": {
      "provenance": [],
      "include_colab_link": true
    },
    "kernelspec": {
      "display_name": "Python 3",
      "language": "python",
      "name": "python3"
    },
    "language_info": {
      "name": "python"
    }
  },
  "nbformat": 4,
  "nbformat_minor": 5
}